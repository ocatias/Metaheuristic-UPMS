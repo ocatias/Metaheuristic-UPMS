{
 "cells": [
  {
   "cell_type": "code",
   "execution_count": 1,
   "metadata": {},
   "outputs": [],
   "source": [
    "import matplotlib as plt\n",
    "\n",
    "import glob, os\n",
    "import numpy as np"
   ]
  },
  {
   "cell_type": "code",
   "execution_count": 2,
   "metadata": {},
   "outputs": [],
   "source": [
    "def printStatistics(array, name):\n",
    "    avg = np.average(array)\n",
    "    med = np.median(array)\n",
    "    std = np.std(array)\n",
    "    \n",
    "    print(name, '\\tAvg:', f'{avg:12.2f}', '\\tMed:', f'{med:12.2f}', '\\tStd:', f'{std:12.2f}')\n",
    "    return (avg, med, std)\n",
    "\n",
    "def selectNumberFromLines(lines, nameToSearchFor):\n",
    "    return list(filter(lambda x: x.find(nameToSearchFor) != -1, lines))[0].split(': ')[1]\n",
    "    \n",
    "def calcAvgResults(path):\n",
    "\n",
    "    os.chdir(path)\n",
    "    nrFiles = len(glob.glob(\"*.info\"))\n",
    "    print(nrFiles, 'files')\n",
    "    makeSpans = np.zeros(nrFiles, dtype = 'float_')\n",
    "    tardiness = np.zeros(nrFiles)\n",
    "    runtimes = np.zeros(nrFiles)\n",
    "    iterations = np.zeros(nrFiles)\n",
    "    i = 0\n",
    "    \n",
    "    for filename in glob.glob(\"*.info\"):\n",
    "        f = open(filename, \"r\")\n",
    "        lines = f.read().split('\\n') \n",
    "        \n",
    "        makeSpans[i] = selectNumberFromLines(lines, 'Makespan')\n",
    "        tardiness[i] = selectNumberFromLines(lines, 'Tardiness')\n",
    "        strRuntime = selectNumberFromLines(lines, 'runtime')\n",
    "        runtimes[i] = strRuntime.replace('s', '')\n",
    "        iterations[i] = selectNumberFromLines(lines, 'iterations')\n",
    "\n",
    "        i += 1\n",
    "        \n",
    "    printStatistics(tardiness, 'Tardiness')\n",
    "    printStatistics(makeSpans, 'Makespan')\n",
    "    printStatistics(iterations, 'Iterations')\n",
    "    printStatistics(runtimes, 'Runtime')\n"
   ]
  },
  {
   "cell_type": "code",
   "execution_count": 12,
   "metadata": {},
   "outputs": [
    {
     "name": "stdout",
     "output_type": "stream",
     "text": [
      "PARALLEL RESULTS\n",
      "60 files\n",
      "Tardiness \tAvg:       679.28 \tMed:       868.50 \tStd:       425.99\n",
      "Makespan \tAvg:      2345.63 \tMed:       842.50 \tStd:      2630.48\n",
      "Iterations \tAvg:   3280116.73 \tMed:   2547151.00 \tStd:   2914061.15\n",
      "Runtime \tAvg:        10.00 \tMed:        10.00 \tStd:         0.00\n",
      "\n",
      "\n",
      "NON PARALLEL RESULTS\n",
      "60 files\n",
      "Tardiness \tAvg:       690.50 \tMed:       882.00 \tStd:       473.18\n",
      "Makespan \tAvg:      2301.42 \tMed:       837.00 \tStd:      2595.17\n",
      "Iterations \tAvg:   4600926.08 \tMed:   3793810.00 \tStd:   4027186.46\n",
      "Runtime \tAvg:        10.00 \tMed:        10.00 \tStd:         0.00\n"
     ]
    }
   ],
   "source": [
    "print('PARALLEL RESULTS')\n",
    "calcAvgResults(\"C:/Users/Fabian/Desktop/Informatik/CO/Experiments/20.01 Parallel Test\")\n",
    "\n",
    "print('\\n\\nNON PARALLEL RESULTS')\n",
    "calcAvgResults(\"C:/Users/Fabian/Desktop/Informatik/CO/Experiments/20.01 Not Parallel Test\")\n"
   ]
  },
  {
   "cell_type": "code",
   "execution_count": 10,
   "metadata": {},
   "outputs": [
    {
     "name": "stdout",
     "output_type": "stream",
     "text": [
      "440 files\n",
      "Tardiness \tAvg:      2678.69 \tMed:       179.50 \tStd:     24129.30\n",
      "Makespan \tAvg:      4492.49 \tMed:      1928.50 \tStd:      8501.76\n",
      "Iterations \tAvg:   1733498.52 \tMed:   1022482.00 \tStd:   2048596.49\n",
      "Runtime \tAvg:        10.00 \tMed:        10.00 \tStd:         0.00\n"
     ]
    }
   ],
   "source": [
    "calcAvgResults(\"C:/Users/Fabian/Desktop/Informatik/CO/Experiments/FirstRunOffAllValidations\")"
   ]
  },
  {
   "cell_type": "code",
   "execution_count": 11,
   "metadata": {},
   "outputs": [
    {
     "name": "stdout",
     "output_type": "stream",
     "text": [
      "440 files\n",
      "Tardiness \tAvg:      2223.25 \tMed:       154.00 \tStd:     21188.43\n",
      "Makespan \tAvg:      4345.01 \tMed:      1678.00 \tStd:      8565.32\n",
      "Iterations \tAvg:   2349481.52 \tMed:   2025261.50 \tStd:   1682992.79\n",
      "Runtime \tAvg:        10.00 \tMed:        10.00 \tStd:         0.00\n"
     ]
    }
   ],
   "source": [
    "calcAvgResults(\"C:/Users/Fabian/Desktop/Informatik/CO/Experiments/TryFasterVersionAllData(Sequential)\")\n"
   ]
  },
  {
   "cell_type": "code",
   "execution_count": null,
   "metadata": {},
   "outputs": [],
   "source": []
  }
 ],
 "metadata": {
  "kernelspec": {
   "display_name": "Python 3",
   "language": "python",
   "name": "python3"
  },
  "language_info": {
   "codemirror_mode": {
    "name": "ipython",
    "version": 3
   },
   "file_extension": ".py",
   "mimetype": "text/x-python",
   "name": "python",
   "nbconvert_exporter": "python",
   "pygments_lexer": "ipython3",
   "version": "3.7.6"
  }
 },
 "nbformat": 4,
 "nbformat_minor": 4
}
